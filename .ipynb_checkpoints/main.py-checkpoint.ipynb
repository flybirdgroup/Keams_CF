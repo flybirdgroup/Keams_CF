{
 "cells": [
  {
   "cell_type": "markdown",
   "metadata": {},
   "source": [
    "# 背景介绍,需求"
   ]
  },
  {
   "cell_type": "markdown",
   "metadata": {},
   "source": [
    "## 目的---我们要喜欢从数据中挖掘有用的价值,比如客户用户价值,客户分类,来帮助销售人员更好针对不同客户群体进行精准销售"
   ]
  },
  {
   "cell_type": "markdown",
   "metadata": {},
   "source": [
    "\n",
    "\n",
    "\n",
    "\n",
    "\n",
    "\n",
    "## 数据来源--我们组员公司的真实数据"
   ]
  },
  {
   "cell_type": "markdown",
   "metadata": {},
   "source": [
    "## 数据的介绍"
   ]
  },
  {
   "cell_type": "markdown",
   "metadata": {},
   "source": [
    "# 数据准备"
   ]
  },
  {
   "cell_type": "markdown",
   "metadata": {},
   "source": [
    "## 读取数据"
   ]
  },
  {
   "cell_type": "code",
   "execution_count": 1,
   "metadata": {},
   "outputs": [],
   "source": [
    "import warnings\n",
    "warnings.filterwarnings(\"ignore\")\n",
    "import datetime \n",
    "import pandas as pd"
   ]
  },
  {
   "cell_type": "code",
   "execution_count": 2,
   "metadata": {},
   "outputs": [],
   "source": [
    "df = pd.read_excel('./data/2019.xlsx')"
   ]
  },
  {
   "cell_type": "markdown",
   "metadata": {},
   "source": [
    "## 查看数据"
   ]
  },
  {
   "cell_type": "code",
   "execution_count": 3,
   "metadata": {
    "scrolled": true
   },
   "outputs": [
    {
     "data": {
      "text/html": [
       "<div>\n",
       "<style scoped>\n",
       "    .dataframe tbody tr th:only-of-type {\n",
       "        vertical-align: middle;\n",
       "    }\n",
       "\n",
       "    .dataframe tbody tr th {\n",
       "        vertical-align: top;\n",
       "    }\n",
       "\n",
       "    .dataframe thead th {\n",
       "        text-align: right;\n",
       "    }\n",
       "</style>\n",
       "<table border=\"1\" class=\"dataframe\">\n",
       "  <thead>\n",
       "    <tr style=\"text-align: right;\">\n",
       "      <th></th>\n",
       "      <th>销售团队</th>\n",
       "      <th>TEAMNAME</th>\n",
       "      <th>GCN/GHK</th>\n",
       "      <th>DOCTYP</th>\n",
       "      <th>发票日期</th>\n",
       "      <th>合同号</th>\n",
       "      <th>CUSTOMER</th>\n",
       "      <th>DISTRICT</th>\n",
       "      <th>TERRITORY</th>\n",
       "      <th>PROVINCE</th>\n",
       "      <th>...</th>\n",
       "      <th>INDDES</th>\n",
       "      <th>ITEM</th>\n",
       "      <th>QTY</th>\n",
       "      <th>不含税单价</th>\n",
       "      <th>DIV</th>\n",
       "      <th>BU</th>\n",
       "      <th>PH</th>\n",
       "      <th>SERIES</th>\n",
       "      <th>PERIOD</th>\n",
       "      <th>YR</th>\n",
       "    </tr>\n",
       "  </thead>\n",
       "  <tbody>\n",
       "    <tr>\n",
       "      <th>0</th>\n",
       "      <td>SS</td>\n",
       "      <td>Sales South</td>\n",
       "      <td>GCN</td>\n",
       "      <td>OEIN</td>\n",
       "      <td>2019-07-19</td>\n",
       "      <td>SC20192033259</td>\n",
       "      <td>1004198</td>\n",
       "      <td>SS</td>\n",
       "      <td>SOUTH</td>\n",
       "      <td>广东</td>\n",
       "      <td>...</td>\n",
       "      <td>Packaging machines</td>\n",
       "      <td>1005784</td>\n",
       "      <td>4</td>\n",
       "      <td>753.23</td>\n",
       "      <td>2</td>\n",
       "      <td>1</td>\n",
       "      <td>02010371COLMIR</td>\n",
       "      <td>COLMIR</td>\n",
       "      <td>7</td>\n",
       "      <td>2019</td>\n",
       "    </tr>\n",
       "    <tr>\n",
       "      <th>1</th>\n",
       "      <td>SS</td>\n",
       "      <td>Sales South</td>\n",
       "      <td>GCN</td>\n",
       "      <td>OEIN</td>\n",
       "      <td>2019-07-10</td>\n",
       "      <td>SC20192033260</td>\n",
       "      <td>1004198</td>\n",
       "      <td>SS</td>\n",
       "      <td>SOUTH</td>\n",
       "      <td>广东</td>\n",
       "      <td>...</td>\n",
       "      <td>Packaging machines</td>\n",
       "      <td>1005784</td>\n",
       "      <td>4</td>\n",
       "      <td>753.23</td>\n",
       "      <td>2</td>\n",
       "      <td>1</td>\n",
       "      <td>02010371COLMIR</td>\n",
       "      <td>COLMIR</td>\n",
       "      <td>7</td>\n",
       "      <td>2019</td>\n",
       "    </tr>\n",
       "  </tbody>\n",
       "</table>\n",
       "<p>2 rows × 29 columns</p>\n",
       "</div>"
      ],
      "text/plain": [
       "  销售团队     TEAMNAME GCN/GHK DOCTYP        发票日期            合同号 CUSTOMER  \\\n",
       "0   SS  Sales South     GCN   OEIN  2019-07-19  SC20192033259  1004198   \n",
       "1   SS  Sales South     GCN   OEIN  2019-07-10  SC20192033260  1004198   \n",
       "\n",
       "  DISTRICT TERRITORY PROVINCE  ...              INDDES     ITEM QTY   不含税单价  \\\n",
       "0       SS     SOUTH       广东  ...  Packaging machines  1005784   4  753.23   \n",
       "1       SS     SOUTH       广东  ...  Packaging machines  1005784   4  753.23   \n",
       "\n",
       "   DIV BU              PH  SERIES PERIOD    YR  \n",
       "0    2  1  02010371COLMIR  COLMIR      7  2019  \n",
       "1    2  1  02010371COLMIR  COLMIR      7  2019  \n",
       "\n",
       "[2 rows x 29 columns]"
      ]
     },
     "execution_count": 3,
     "metadata": {},
     "output_type": "execute_result"
    }
   ],
   "source": [
    "df.head(2)"
   ]
  },
  {
   "cell_type": "code",
   "execution_count": 4,
   "metadata": {
    "scrolled": true
   },
   "outputs": [
    {
     "name": "stdout",
     "output_type": "stream",
     "text": [
      "<class 'pandas.core.frame.DataFrame'>\n",
      "RangeIndex: 31670 entries, 0 to 31669\n",
      "Data columns (total 29 columns):\n",
      "销售团队         31670 non-null object\n",
      "TEAMNAME     31670 non-null object\n",
      "GCN/GHK      31670 non-null object\n",
      "DOCTYP       31670 non-null object\n",
      "发票日期         31670 non-null object\n",
      "合同号          31650 non-null object\n",
      "CUSTOMER     31670 non-null object\n",
      "DISTRICT     31670 non-null object\n",
      "TERRITORY    31665 non-null object\n",
      "PROVINCE     31670 non-null object\n",
      "BPCTYP       31670 non-null object\n",
      "CUSTYP       31670 non-null int64\n",
      "TYPDES       31648 non-null object\n",
      "CSC          31670 non-null object\n",
      "SI           31670 non-null int64\n",
      "SIDES        31670 non-null object\n",
      "SUBGRP       31670 non-null object\n",
      "GRPDES       31670 non-null object\n",
      "IND          31670 non-null object\n",
      "INDDES       31670 non-null object\n",
      "ITEM         31670 non-null int64\n",
      "QTY          31670 non-null int64\n",
      "不含税单价        31670 non-null float64\n",
      "DIV          31670 non-null int64\n",
      "BU           31670 non-null int64\n",
      "PH           31670 non-null object\n",
      "SERIES       31670 non-null object\n",
      "PERIOD       31670 non-null int64\n",
      "YR           31670 non-null int64\n",
      "dtypes: float64(1), int64(8), object(20)\n",
      "memory usage: 7.0+ MB\n"
     ]
    }
   ],
   "source": [
    "df.info()"
   ]
  },
  {
   "cell_type": "markdown",
   "metadata": {},
   "source": [
    "# 数据处理"
   ]
  },
  {
   "cell_type": "markdown",
   "metadata": {},
   "source": [
    "## 数据清洗--把中文字段信息转换字符串"
   ]
  },
  {
   "cell_type": "code",
   "execution_count": 5,
   "metadata": {
    "scrolled": true
   },
   "outputs": [
    {
     "data": {
      "text/plain": [
       "array(['广东', '天津', '山东', '辽宁', '江苏', '黑龙江', '吉林', '福建', '安徽', '北京', '湖南',\n",
       "       '上海', '重庆', '山西', '四川', '江西', '浙江', '湖北', '河北', '陕西', '广西', '内蒙古',\n",
       "       '云南', '宁夏', '甘肃', '河南', 'GERMANY', 'ITALY', 'TAIWAN', 'SINGAPORE',\n",
       "       'HONG KONG', '香港', '广东省', '江苏省'], dtype=object)"
      ]
     },
     "execution_count": 5,
     "metadata": {},
     "output_type": "execute_result"
    }
   ],
   "source": [
    "df.PROVINCE.unique()"
   ]
  },
  {
   "cell_type": "code",
   "execution_count": 6,
   "metadata": {},
   "outputs": [],
   "source": [
    "df = df.replace('广东省','广东').replace('江苏省','江苏').replace('HONG KONG','香港')"
   ]
  },
  {
   "cell_type": "code",
   "execution_count": 7,
   "metadata": {
    "scrolled": true
   },
   "outputs": [
    {
     "data": {
      "text/plain": [
       "array(['广东', '天津', '山东', '辽宁', '江苏', '黑龙江', '吉林', '福建', '安徽', '北京', '湖南',\n",
       "       '上海', '重庆', '山西', '四川', '江西', '浙江', '湖北', '河北', '陕西', '广西', '内蒙古',\n",
       "       '云南', '宁夏', '甘肃', '河南', 'GERMANY', 'ITALY', 'TAIWAN', 'SINGAPORE',\n",
       "       '香港'], dtype=object)"
      ]
     },
     "execution_count": 7,
     "metadata": {},
     "output_type": "execute_result"
    }
   ],
   "source": [
    "df.PROVINCE.unique()"
   ]
  },
  {
   "cell_type": "code",
   "execution_count": 8,
   "metadata": {},
   "outputs": [],
   "source": [
    "from Utilities.utility import province_to_short\n",
    "df['PROVINCE'] = df['PROVINCE'].apply(lambda x: province_to_short(x))"
   ]
  },
  {
   "cell_type": "code",
   "execution_count": 12,
   "metadata": {},
   "outputs": [
    {
     "data": {
      "text/plain": [
       "array(['GD', 'TJ', 'SD', 'LN', 'JS', 'HLJ', 'JL', 'BJ', 'HN', 'SH', 'CQ',\n",
       "       'SX', 'SC', 'JX', 'ZJ', 'HUB', 'HEB', 'XX', 'GX', 'NMG', 'YN',\n",
       "       'LX', 'GS', 'HEN', 'DE', 'IT', 'TW', 'SG', 'HK'], dtype=object)"
      ]
     },
     "execution_count": 12,
     "metadata": {},
     "output_type": "execute_result"
    }
   ],
   "source": [
    "df['PROVINCE'].unique()"
   ]
  },
  {
   "cell_type": "markdown",
   "metadata": {},
   "source": [
    "## PROVINCE/Territory地区字段分清楚,比如Germany地区被标记为EAST,而上海也标记为EAST"
   ]
  },
  {
   "cell_type": "markdown",
   "metadata": {},
   "source": [
    "## 把中文字段变成英文字段"
   ]
  },
  {
   "cell_type": "code",
   "execution_count": 13,
   "metadata": {},
   "outputs": [
    {
     "data": {
      "text/plain": [
       "Index(['Sales_TEAM', 'TEAMNAME', 'GCN/GHK', 'DOCTYP', 'Invoice_date',\n",
       "       'Contract_NO', 'CUSTOMER', 'DISTRICT', 'TERRITORY', 'PROVINCE',\n",
       "       'BPCTYP', 'CUSTYP', 'TYPDES', 'CSC', 'SI', 'SIDES', 'SUBGRP', 'GRPDES',\n",
       "       'IND', 'INDDES', 'ITEM', 'QTY', 'price', 'DIV', 'BU', 'PH', 'SERIES',\n",
       "       'PERIOD', 'YR'],\n",
       "      dtype='object')"
      ]
     },
     "execution_count": 13,
     "metadata": {},
     "output_type": "execute_result"
    }
   ],
   "source": [
    "df.columns"
   ]
  },
  {
   "cell_type": "code",
   "execution_count": 14,
   "metadata": {},
   "outputs": [],
   "source": [
    "df = df.rename(columns={\"销售团队\": \"Sales_TEAM\", \"发票日期\": \"Invoice_date\", \"合同号\": \"Contract_NO\",\"不含税单价\":\"price\"})"
   ]
  },
  {
   "cell_type": "code",
   "execution_count": 15,
   "metadata": {},
   "outputs": [
    {
     "data": {
      "text/html": [
       "<div>\n",
       "<style scoped>\n",
       "    .dataframe tbody tr th:only-of-type {\n",
       "        vertical-align: middle;\n",
       "    }\n",
       "\n",
       "    .dataframe tbody tr th {\n",
       "        vertical-align: top;\n",
       "    }\n",
       "\n",
       "    .dataframe thead th {\n",
       "        text-align: right;\n",
       "    }\n",
       "</style>\n",
       "<table border=\"1\" class=\"dataframe\">\n",
       "  <thead>\n",
       "    <tr style=\"text-align: right;\">\n",
       "      <th></th>\n",
       "      <th>Sales_TEAM</th>\n",
       "      <th>TEAMNAME</th>\n",
       "      <th>GCN/GHK</th>\n",
       "      <th>DOCTYP</th>\n",
       "      <th>Invoice_date</th>\n",
       "      <th>Contract_NO</th>\n",
       "      <th>CUSTOMER</th>\n",
       "      <th>DISTRICT</th>\n",
       "      <th>TERRITORY</th>\n",
       "      <th>PROVINCE</th>\n",
       "      <th>...</th>\n",
       "      <th>INDDES</th>\n",
       "      <th>ITEM</th>\n",
       "      <th>QTY</th>\n",
       "      <th>price</th>\n",
       "      <th>DIV</th>\n",
       "      <th>BU</th>\n",
       "      <th>PH</th>\n",
       "      <th>SERIES</th>\n",
       "      <th>PERIOD</th>\n",
       "      <th>YR</th>\n",
       "    </tr>\n",
       "  </thead>\n",
       "  <tbody>\n",
       "    <tr>\n",
       "      <th>0</th>\n",
       "      <td>SS</td>\n",
       "      <td>Sales South</td>\n",
       "      <td>GCN</td>\n",
       "      <td>OEIN</td>\n",
       "      <td>2019-07-19</td>\n",
       "      <td>SC20192033259</td>\n",
       "      <td>1004198</td>\n",
       "      <td>SS</td>\n",
       "      <td>SOUTH</td>\n",
       "      <td>GD</td>\n",
       "      <td>...</td>\n",
       "      <td>Packaging machines</td>\n",
       "      <td>1005784</td>\n",
       "      <td>4</td>\n",
       "      <td>753.23</td>\n",
       "      <td>2</td>\n",
       "      <td>1</td>\n",
       "      <td>02010371COLMIR</td>\n",
       "      <td>COLMIR</td>\n",
       "      <td>7</td>\n",
       "      <td>2019</td>\n",
       "    </tr>\n",
       "    <tr>\n",
       "      <th>1</th>\n",
       "      <td>SS</td>\n",
       "      <td>Sales South</td>\n",
       "      <td>GCN</td>\n",
       "      <td>OEIN</td>\n",
       "      <td>2019-07-10</td>\n",
       "      <td>SC20192033260</td>\n",
       "      <td>1004198</td>\n",
       "      <td>SS</td>\n",
       "      <td>SOUTH</td>\n",
       "      <td>GD</td>\n",
       "      <td>...</td>\n",
       "      <td>Packaging machines</td>\n",
       "      <td>1005784</td>\n",
       "      <td>4</td>\n",
       "      <td>753.23</td>\n",
       "      <td>2</td>\n",
       "      <td>1</td>\n",
       "      <td>02010371COLMIR</td>\n",
       "      <td>COLMIR</td>\n",
       "      <td>7</td>\n",
       "      <td>2019</td>\n",
       "    </tr>\n",
       "  </tbody>\n",
       "</table>\n",
       "<p>2 rows × 29 columns</p>\n",
       "</div>"
      ],
      "text/plain": [
       "  Sales_TEAM     TEAMNAME GCN/GHK DOCTYP Invoice_date    Contract_NO CUSTOMER  \\\n",
       "0         SS  Sales South     GCN   OEIN   2019-07-19  SC20192033259  1004198   \n",
       "1         SS  Sales South     GCN   OEIN   2019-07-10  SC20192033260  1004198   \n",
       "\n",
       "  DISTRICT TERRITORY PROVINCE  ...              INDDES     ITEM QTY   price  \\\n",
       "0       SS     SOUTH       GD  ...  Packaging machines  1005784   4  753.23   \n",
       "1       SS     SOUTH       GD  ...  Packaging machines  1005784   4  753.23   \n",
       "\n",
       "   DIV BU              PH  SERIES PERIOD    YR  \n",
       "0    2  1  02010371COLMIR  COLMIR      7  2019  \n",
       "1    2  1  02010371COLMIR  COLMIR      7  2019  \n",
       "\n",
       "[2 rows x 29 columns]"
      ]
     },
     "execution_count": 15,
     "metadata": {},
     "output_type": "execute_result"
    }
   ],
   "source": [
    "df.head(2)"
   ]
  },
  {
   "cell_type": "markdown",
   "metadata": {},
   "source": [
    "## 缺失值处理 - 因为数据量还是比较大,暂时dropna方法去掉"
   ]
  },
  {
   "cell_type": "code",
   "execution_count": 16,
   "metadata": {},
   "outputs": [],
   "source": [
    "df.dropna(inplace=True)"
   ]
  },
  {
   "cell_type": "markdown",
   "metadata": {},
   "source": [
    "## 单变量分析"
   ]
  },
  {
   "cell_type": "markdown",
   "metadata": {},
   "source": [
    "## 变量关联分析"
   ]
  },
  {
   "cell_type": "markdown",
   "metadata": {},
   "source": [
    "## 选择需要的字段"
   ]
  },
  {
   "cell_type": "code",
   "execution_count": 17,
   "metadata": {
    "scrolled": true
   },
   "outputs": [
    {
     "data": {
      "text/plain": [
       "Index(['Sales_TEAM', 'TEAMNAME', 'GCN/GHK', 'DOCTYP', 'Invoice_date',\n",
       "       'Contract_NO', 'CUSTOMER', 'DISTRICT', 'TERRITORY', 'PROVINCE',\n",
       "       'BPCTYP', 'CUSTYP', 'TYPDES', 'CSC', 'SI', 'SIDES', 'SUBGRP', 'GRPDES',\n",
       "       'IND', 'INDDES', 'ITEM', 'QTY', 'price', 'DIV', 'BU', 'PH', 'SERIES',\n",
       "       'PERIOD', 'YR'],\n",
       "      dtype='object')"
      ]
     },
     "execution_count": 17,
     "metadata": {},
     "output_type": "execute_result"
    }
   ],
   "source": [
    "df.columns"
   ]
  },
  {
   "cell_type": "code",
   "execution_count": 18,
   "metadata": {},
   "outputs": [],
   "source": [
    "df_new = df[['Invoice_date','CUSTOMER','PROVINCE','CUSTYP', 'TYPDES', 'ITEM', 'QTY', 'price','PERIOD']]"
   ]
  },
  {
   "cell_type": "code",
   "execution_count": 19,
   "metadata": {},
   "outputs": [
    {
     "name": "stdout",
     "output_type": "stream",
     "text": [
      "<class 'pandas.core.frame.DataFrame'>\n",
      "Int64Index: 31623 entries, 0 to 31669\n",
      "Data columns (total 9 columns):\n",
      "Invoice_date    31623 non-null object\n",
      "CUSTOMER        31623 non-null object\n",
      "PROVINCE        31623 non-null object\n",
      "CUSTYP          31623 non-null int64\n",
      "TYPDES          31623 non-null object\n",
      "ITEM            31623 non-null int64\n",
      "QTY             31623 non-null int64\n",
      "price           31623 non-null float64\n",
      "PERIOD          31623 non-null int64\n",
      "dtypes: float64(1), int64(4), object(4)\n",
      "memory usage: 2.4+ MB\n"
     ]
    }
   ],
   "source": [
    "df_new.info()"
   ]
  },
  {
   "cell_type": "markdown",
   "metadata": {},
   "source": [
    "# 特征工程"
   ]
  },
  {
   "cell_type": "markdown",
   "metadata": {},
   "source": [
    "## RFM模型定义--通过一个客户的近期购买行为、购买的总体频率以及花了多少钱3项指标来描述该客户的价值状况。"
   ]
  },
  {
   "cell_type": "code",
   "execution_count": 20,
   "metadata": {},
   "outputs": [
    {
     "name": "stdout",
     "output_type": "stream",
     "text": [
      "<class 'pandas.core.frame.DataFrame'>\n",
      "Int64Index: 31623 entries, 0 to 31669\n",
      "Data columns (total 10 columns):\n",
      "Invoice_date    31623 non-null object\n",
      "CUSTOMER        31623 non-null object\n",
      "PROVINCE        31623 non-null object\n",
      "CUSTYP          31623 non-null int64\n",
      "TYPDES          31623 non-null object\n",
      "ITEM            31623 non-null int64\n",
      "QTY             31623 non-null int64\n",
      "price           31623 non-null float64\n",
      "PERIOD          31623 non-null int64\n",
      "paytime         31623 non-null datetime64[ns]\n",
      "dtypes: datetime64[ns](1), float64(1), int64(4), object(4)\n",
      "memory usage: 2.7+ MB\n"
     ]
    }
   ],
   "source": [
    "df_new['paytime'] = pd.to_datetime(df_new['Invoice_date'].apply(lambda x:datetime.datetime.strptime(x, '%Y-%m-%d')))\n",
    "df_new.head()\n",
    "df_new.info()"
   ]
  },
  {
   "cell_type": "markdown",
   "metadata": {},
   "source": [
    "## 创建3个新的变量 (Recency,Frequency,Monetary)"
   ]
  },
  {
   "cell_type": "markdown",
   "metadata": {},
   "source": [
    "## Recency--用户最近一次下订单的时间间隔，衡量用户是否存在流失可能性"
   ]
  },
  {
   "cell_type": "code",
   "execution_count": 21,
   "metadata": {
    "scrolled": true
   },
   "outputs": [
    {
     "data": {
      "text/html": [
       "<div>\n",
       "<style scoped>\n",
       "    .dataframe tbody tr th:only-of-type {\n",
       "        vertical-align: middle;\n",
       "    }\n",
       "\n",
       "    .dataframe tbody tr th {\n",
       "        vertical-align: top;\n",
       "    }\n",
       "\n",
       "    .dataframe thead th {\n",
       "        text-align: right;\n",
       "    }\n",
       "</style>\n",
       "<table border=\"1\" class=\"dataframe\">\n",
       "  <thead>\n",
       "    <tr style=\"text-align: right;\">\n",
       "      <th></th>\n",
       "      <th>CUSTOMER</th>\n",
       "      <th>recency</th>\n",
       "    </tr>\n",
       "  </thead>\n",
       "  <tbody>\n",
       "    <tr>\n",
       "      <th>0</th>\n",
       "      <td>1000022</td>\n",
       "      <td>35</td>\n",
       "    </tr>\n",
       "    <tr>\n",
       "      <th>1</th>\n",
       "      <td>1000023</td>\n",
       "      <td>43</td>\n",
       "    </tr>\n",
       "    <tr>\n",
       "      <th>2</th>\n",
       "      <td>1000025</td>\n",
       "      <td>348</td>\n",
       "    </tr>\n",
       "    <tr>\n",
       "      <th>3</th>\n",
       "      <td>1000026</td>\n",
       "      <td>6</td>\n",
       "    </tr>\n",
       "    <tr>\n",
       "      <th>4</th>\n",
       "      <td>1000033</td>\n",
       "      <td>15</td>\n",
       "    </tr>\n",
       "  </tbody>\n",
       "</table>\n",
       "</div>"
      ],
      "text/plain": [
       "  CUSTOMER  recency\n",
       "0  1000022       35\n",
       "1  1000023       43\n",
       "2  1000025      348\n",
       "3  1000026        6\n",
       "4  1000033       15"
      ]
     },
     "execution_count": 21,
     "metadata": {},
     "output_type": "execute_result"
    }
   ],
   "source": [
    "# 提取每个用户最近（最大）的购买日期\n",
    "data_r = df_new.groupby('CUSTOMER')['paytime'].max().reset_index()\n",
    "# 与当前日期相减，取得最近一次购买距当前的天数。\n",
    "data_r['recency'] = data_r['paytime'].apply(lambda x:(pd.to_datetime('2020-01-01')-x).days)\n",
    "# 两个日期相减，得到的数据类型是timedelta类型，要进行数值计算，需要提取出天数数字。\n",
    "data_r.drop('paytime',axis = 1,inplace = True)\n",
    "data_r.head()"
   ]
  },
  {
   "cell_type": "markdown",
   "metadata": {},
   "source": [
    "## Frequency--用户最近一段时间内累计消费频次，衡量用户的粘性"
   ]
  },
  {
   "cell_type": "code",
   "execution_count": 22,
   "metadata": {},
   "outputs": [],
   "source": [
    "#to do , 可以再细致一点,比如根据item进行深化分析"
   ]
  },
  {
   "cell_type": "code",
   "execution_count": 23,
   "metadata": {
    "scrolled": true
   },
   "outputs": [
    {
     "data": {
      "text/html": [
       "<div>\n",
       "<style scoped>\n",
       "    .dataframe tbody tr th:only-of-type {\n",
       "        vertical-align: middle;\n",
       "    }\n",
       "\n",
       "    .dataframe tbody tr th {\n",
       "        vertical-align: top;\n",
       "    }\n",
       "\n",
       "    .dataframe thead th {\n",
       "        text-align: right;\n",
       "    }\n",
       "</style>\n",
       "<table border=\"1\" class=\"dataframe\">\n",
       "  <thead>\n",
       "    <tr style=\"text-align: right;\">\n",
       "      <th></th>\n",
       "      <th>CUSTOMER</th>\n",
       "      <th>frequence</th>\n",
       "    </tr>\n",
       "  </thead>\n",
       "  <tbody>\n",
       "    <tr>\n",
       "      <th>0</th>\n",
       "      <td>1000022</td>\n",
       "      <td>7</td>\n",
       "    </tr>\n",
       "    <tr>\n",
       "      <th>1</th>\n",
       "      <td>1000023</td>\n",
       "      <td>6</td>\n",
       "    </tr>\n",
       "    <tr>\n",
       "      <th>2</th>\n",
       "      <td>1000025</td>\n",
       "      <td>1</td>\n",
       "    </tr>\n",
       "    <tr>\n",
       "      <th>3</th>\n",
       "      <td>1000026</td>\n",
       "      <td>25</td>\n",
       "    </tr>\n",
       "    <tr>\n",
       "      <th>4</th>\n",
       "      <td>1000033</td>\n",
       "      <td>7</td>\n",
       "    </tr>\n",
       "  </tbody>\n",
       "</table>\n",
       "</div>"
      ],
      "text/plain": [
       "  CUSTOMER  frequence\n",
       "0  1000022          7\n",
       "1  1000023          6\n",
       "2  1000025          1\n",
       "3  1000026         25\n",
       "4  1000033          7"
      ]
     },
     "execution_count": 23,
     "metadata": {},
     "output_type": "execute_result"
    }
   ],
   "source": [
    "# 分组聚合，得到每个用户发生于不同日期的购买次数\n",
    "data_f = df_new.groupby(['CUSTOMER','paytime'])['Invoice_date'].count().reset_index()\n",
    "data_f = data_f.groupby('CUSTOMER')['paytime'].count().reset_index()\n",
    "# 修改列名\n",
    "data_f.rename({'paytime':'frequence'},axis = 1,inplace = True)\n",
    "data_f.head()"
   ]
  },
  {
   "cell_type": "markdown",
   "metadata": {},
   "source": [
    "## M（Money)： 用户最近一段时间内累计消费金额，衡量用户的消费能力和忠诚度"
   ]
  },
  {
   "cell_type": "code",
   "execution_count": 24,
   "metadata": {},
   "outputs": [],
   "source": [
    "df_new['sales']=df_new[\"QTY\"]*df_new[\"price\"]"
   ]
  },
  {
   "cell_type": "code",
   "execution_count": 25,
   "metadata": {
    "scrolled": true
   },
   "outputs": [
    {
     "data": {
      "text/html": [
       "<div>\n",
       "<style scoped>\n",
       "    .dataframe tbody tr th:only-of-type {\n",
       "        vertical-align: middle;\n",
       "    }\n",
       "\n",
       "    .dataframe tbody tr th {\n",
       "        vertical-align: top;\n",
       "    }\n",
       "\n",
       "    .dataframe thead th {\n",
       "        text-align: right;\n",
       "    }\n",
       "</style>\n",
       "<table border=\"1\" class=\"dataframe\">\n",
       "  <thead>\n",
       "    <tr style=\"text-align: right;\">\n",
       "      <th></th>\n",
       "      <th>CUSTOMER</th>\n",
       "      <th>money</th>\n",
       "    </tr>\n",
       "  </thead>\n",
       "  <tbody>\n",
       "    <tr>\n",
       "      <th>0</th>\n",
       "      <td>1000022</td>\n",
       "      <td>22832.154286</td>\n",
       "    </tr>\n",
       "    <tr>\n",
       "      <th>1</th>\n",
       "      <td>1000023</td>\n",
       "      <td>80435.956667</td>\n",
       "    </tr>\n",
       "    <tr>\n",
       "      <th>2</th>\n",
       "      <td>1000025</td>\n",
       "      <td>580.000000</td>\n",
       "    </tr>\n",
       "    <tr>\n",
       "      <th>3</th>\n",
       "      <td>1000026</td>\n",
       "      <td>6817.014000</td>\n",
       "    </tr>\n",
       "    <tr>\n",
       "      <th>4</th>\n",
       "      <td>1000033</td>\n",
       "      <td>23637.768571</td>\n",
       "    </tr>\n",
       "  </tbody>\n",
       "</table>\n",
       "</div>"
      ],
      "text/plain": [
       "  CUSTOMER         money\n",
       "0  1000022  22832.154286\n",
       "1  1000023  80435.956667\n",
       "2  1000025    580.000000\n",
       "3  1000026   6817.014000\n",
       "4  1000033  23637.768571"
      ]
     },
     "execution_count": 25,
     "metadata": {},
     "output_type": "execute_result"
    }
   ],
   "source": [
    "data_m = df_new.groupby('CUSTOMER')['sales'].sum().reset_index()\n",
    "data_m['money'] = data_m['sales']/data_f['frequence']\n",
    "data_m.drop('sales',axis = 1,inplace = True)\n",
    "data_m.head()"
   ]
  },
  {
   "cell_type": "code",
   "execution_count": 26,
   "metadata": {},
   "outputs": [
    {
     "data": {
      "text/html": [
       "<div>\n",
       "<style scoped>\n",
       "    .dataframe tbody tr th:only-of-type {\n",
       "        vertical-align: middle;\n",
       "    }\n",
       "\n",
       "    .dataframe tbody tr th {\n",
       "        vertical-align: top;\n",
       "    }\n",
       "\n",
       "    .dataframe thead th {\n",
       "        text-align: right;\n",
       "    }\n",
       "</style>\n",
       "<table border=\"1\" class=\"dataframe\">\n",
       "  <thead>\n",
       "    <tr style=\"text-align: right;\">\n",
       "      <th></th>\n",
       "      <th>CUSTOMER</th>\n",
       "      <th>recency</th>\n",
       "      <th>frequence</th>\n",
       "      <th>money</th>\n",
       "    </tr>\n",
       "  </thead>\n",
       "  <tbody>\n",
       "    <tr>\n",
       "      <th>0</th>\n",
       "      <td>1000022</td>\n",
       "      <td>35</td>\n",
       "      <td>7</td>\n",
       "      <td>22832.154286</td>\n",
       "    </tr>\n",
       "    <tr>\n",
       "      <th>1</th>\n",
       "      <td>1000023</td>\n",
       "      <td>43</td>\n",
       "      <td>6</td>\n",
       "      <td>80435.956667</td>\n",
       "    </tr>\n",
       "    <tr>\n",
       "      <th>2</th>\n",
       "      <td>1000025</td>\n",
       "      <td>348</td>\n",
       "      <td>1</td>\n",
       "      <td>580.000000</td>\n",
       "    </tr>\n",
       "    <tr>\n",
       "      <th>3</th>\n",
       "      <td>1000026</td>\n",
       "      <td>6</td>\n",
       "      <td>25</td>\n",
       "      <td>6817.014000</td>\n",
       "    </tr>\n",
       "    <tr>\n",
       "      <th>4</th>\n",
       "      <td>1000033</td>\n",
       "      <td>15</td>\n",
       "      <td>7</td>\n",
       "      <td>23637.768571</td>\n",
       "    </tr>\n",
       "    <tr>\n",
       "      <th>...</th>\n",
       "      <td>...</td>\n",
       "      <td>...</td>\n",
       "      <td>...</td>\n",
       "      <td>...</td>\n",
       "    </tr>\n",
       "    <tr>\n",
       "      <th>1546</th>\n",
       "      <td>ZEA00000101R</td>\n",
       "      <td>58</td>\n",
       "      <td>1</td>\n",
       "      <td>1422.260000</td>\n",
       "    </tr>\n",
       "    <tr>\n",
       "      <th>1547</th>\n",
       "      <td>ZEA00000132R</td>\n",
       "      <td>78</td>\n",
       "      <td>9</td>\n",
       "      <td>120439.152222</td>\n",
       "    </tr>\n",
       "    <tr>\n",
       "      <th>1548</th>\n",
       "      <td>ZEA00000149R</td>\n",
       "      <td>15</td>\n",
       "      <td>66</td>\n",
       "      <td>18608.477273</td>\n",
       "    </tr>\n",
       "    <tr>\n",
       "      <th>1549</th>\n",
       "      <td>ZGA00000005R</td>\n",
       "      <td>82</td>\n",
       "      <td>6</td>\n",
       "      <td>14356.415000</td>\n",
       "    </tr>\n",
       "    <tr>\n",
       "      <th>1550</th>\n",
       "      <td>ZJA00000009R</td>\n",
       "      <td>364</td>\n",
       "      <td>1</td>\n",
       "      <td>641.210000</td>\n",
       "    </tr>\n",
       "  </tbody>\n",
       "</table>\n",
       "<p>1551 rows × 4 columns</p>\n",
       "</div>"
      ],
      "text/plain": [
       "          CUSTOMER  recency  frequence          money\n",
       "0          1000022       35          7   22832.154286\n",
       "1          1000023       43          6   80435.956667\n",
       "2          1000025      348          1     580.000000\n",
       "3          1000026        6         25    6817.014000\n",
       "4          1000033       15          7   23637.768571\n",
       "...            ...      ...        ...            ...\n",
       "1546  ZEA00000101R       58          1    1422.260000\n",
       "1547  ZEA00000132R       78          9  120439.152222\n",
       "1548  ZEA00000149R       15         66   18608.477273\n",
       "1549  ZGA00000005R       82          6   14356.415000\n",
       "1550  ZJA00000009R      364          1     641.210000\n",
       "\n",
       "[1551 rows x 4 columns]"
      ]
     },
     "execution_count": 26,
     "metadata": {},
     "output_type": "execute_result"
    }
   ],
   "source": [
    "data_rf = pd.merge(data_r,data_f,on = 'CUSTOMER',how = 'inner')\n",
    "data_rf.head()\n",
    "data_rfm = pd.merge(data_rf,data_m, on = 'CUSTOMER',how = 'inner')\n",
    "data_rfm"
   ]
  },
  {
   "cell_type": "markdown",
   "metadata": {},
   "source": [
    "## 查看数据分布特征"
   ]
  },
  {
   "cell_type": "code",
   "execution_count": 27,
   "metadata": {},
   "outputs": [
    {
     "data": {
      "text/plain": [
       "<matplotlib.axes._subplots.AxesSubplot at 0x7fe04ee00710>"
      ]
     },
     "execution_count": 27,
     "metadata": {},
     "output_type": "execute_result"
    },
    {
     "data": {
      "image/png": "[encoded data removed]",
      "text/plain": [
       "<Figure size 432x288 with 1 Axes>"
      ]
     },
     "metadata": {
      "needs_background": "light"
     },
     "output_type": "display_data"
    }
   ],
   "source": [
    "import matplotlib.pyplot as plt\n",
    "import seaborn as sns\n",
    "plt.figure(figsize = (6,4))\n",
    "sns.set(style = 'darkgrid')\n",
    "sns.countplot(data_rfm['frequence'])"
   ]
  },
  {
   "cell_type": "code",
   "execution_count": 28,
   "metadata": {
    "scrolled": true
   },
   "outputs": [
    {
     "data": {
      "text/plain": [
       "Text(0.5, 1.0, 'recency distribution')"
      ]
     },
     "execution_count": 28,
     "metadata": {},
     "output_type": "execute_result"
    },
    {
     "data": {
      "image/png": "[encoded data removed]",
      "text/plain": [
       "<Figure size 432x288 with 1 Axes>"
      ]
     },
     "metadata": {},
     "output_type": "display_data"
    }
   ],
   "source": [
    "sns.distplot(data_rfm['recency'])\n",
    "plt.title('recency distribution',fontsize = 15)"
   ]
  },
  {
   "cell_type": "code",
   "execution_count": 29,
   "metadata": {},
   "outputs": [
    {
     "data": {
      "text/plain": [
       "Text(0.5, 1.0, 'money distritbution')"
      ]
     },
     "execution_count": 29,
     "metadata": {},
     "output_type": "execute_result"
    },
    {
     "data": {
      "image/png": "[encoded data removed]",
      "text/plain": [
       "<Figure size 432x288 with 1 Axes>"
      ]
     },
     "metadata": {},
     "output_type": "display_data"
    }
   ],
   "source": [
    "sns.distplot(data_rfm['money'],color = 'g')\n",
    "plt.title('money distritbution',fontsize = 15)"
   ]
  },
  {
   "cell_type": "markdown",
   "metadata": {},
   "source": [
    "## 对离散值进行one-hot处理\n"
   ]
  },
  {
   "cell_type": "code",
   "execution_count": 30,
   "metadata": {},
   "outputs": [],
   "source": [
    "df_one_hot = df_new[['CUSTOMER','PROVINCE','CUSTYP', 'TYPDES', 'ITEM','PERIOD']]"
   ]
  },
  {
   "cell_type": "code",
   "execution_count": 31,
   "metadata": {},
   "outputs": [],
   "source": [
    "df_one_hot = pd.get_dummies(df_one_hot,columns=['PROVINCE','CUSTYP', 'TYPDES', 'ITEM','PERIOD'])"
   ]
  },
  {
   "cell_type": "code",
   "execution_count": 32,
   "metadata": {
    "scrolled": true
   },
   "outputs": [
    {
     "data": {
      "text/html": [
       "<div>\n",
       "<style scoped>\n",
       "    .dataframe tbody tr th:only-of-type {\n",
       "        vertical-align: middle;\n",
       "    }\n",
       "\n",
       "    .dataframe tbody tr th {\n",
       "        vertical-align: top;\n",
       "    }\n",
       "\n",
       "    .dataframe thead th {\n",
       "        text-align: right;\n",
       "    }\n",
       "</style>\n",
       "<table border=\"1\" class=\"dataframe\">\n",
       "  <thead>\n",
       "    <tr style=\"text-align: right;\">\n",
       "      <th></th>\n",
       "      <th>CUSTOMER</th>\n",
       "      <th>recency</th>\n",
       "      <th>frequence</th>\n",
       "      <th>money</th>\n",
       "      <th>PROVINCE_BJ</th>\n",
       "      <th>PROVINCE_CQ</th>\n",
       "      <th>PROVINCE_DE</th>\n",
       "      <th>PROVINCE_GD</th>\n",
       "      <th>PROVINCE_GS</th>\n",
       "      <th>PROVINCE_GX</th>\n",
       "      <th>...</th>\n",
       "      <th>PERIOD_3</th>\n",
       "      <th>PERIOD_4</th>\n",
       "      <th>PERIOD_5</th>\n",
       "      <th>PERIOD_6</th>\n",
       "      <th>PERIOD_7</th>\n",
       "      <th>PERIOD_8</th>\n",
       "      <th>PERIOD_9</th>\n",
       "      <th>PERIOD_10</th>\n",
       "      <th>PERIOD_11</th>\n",
       "      <th>PERIOD_12</th>\n",
       "    </tr>\n",
       "  </thead>\n",
       "  <tbody>\n",
       "    <tr>\n",
       "      <th>0</th>\n",
       "      <td>1000022</td>\n",
       "      <td>35</td>\n",
       "      <td>7</td>\n",
       "      <td>22832.154286</td>\n",
       "      <td>0.0</td>\n",
       "      <td>0.0</td>\n",
       "      <td>0.0</td>\n",
       "      <td>0.0</td>\n",
       "      <td>0.0</td>\n",
       "      <td>0.0</td>\n",
       "      <td>...</td>\n",
       "      <td>0.0</td>\n",
       "      <td>2.0</td>\n",
       "      <td>0.0</td>\n",
       "      <td>0.0</td>\n",
       "      <td>4.0</td>\n",
       "      <td>2.0</td>\n",
       "      <td>0.0</td>\n",
       "      <td>2.0</td>\n",
       "      <td>11.0</td>\n",
       "      <td>0.0</td>\n",
       "    </tr>\n",
       "    <tr>\n",
       "      <th>1</th>\n",
       "      <td>1000023</td>\n",
       "      <td>43</td>\n",
       "      <td>6</td>\n",
       "      <td>80435.956667</td>\n",
       "      <td>0.0</td>\n",
       "      <td>0.0</td>\n",
       "      <td>0.0</td>\n",
       "      <td>27.0</td>\n",
       "      <td>0.0</td>\n",
       "      <td>0.0</td>\n",
       "      <td>...</td>\n",
       "      <td>0.0</td>\n",
       "      <td>3.0</td>\n",
       "      <td>0.0</td>\n",
       "      <td>0.0</td>\n",
       "      <td>7.0</td>\n",
       "      <td>0.0</td>\n",
       "      <td>5.0</td>\n",
       "      <td>0.0</td>\n",
       "      <td>12.0</td>\n",
       "      <td>0.0</td>\n",
       "    </tr>\n",
       "    <tr>\n",
       "      <th>2</th>\n",
       "      <td>1000025</td>\n",
       "      <td>348</td>\n",
       "      <td>1</td>\n",
       "      <td>580.000000</td>\n",
       "      <td>0.0</td>\n",
       "      <td>0.0</td>\n",
       "      <td>0.0</td>\n",
       "      <td>1.0</td>\n",
       "      <td>0.0</td>\n",
       "      <td>0.0</td>\n",
       "      <td>...</td>\n",
       "      <td>0.0</td>\n",
       "      <td>0.0</td>\n",
       "      <td>0.0</td>\n",
       "      <td>0.0</td>\n",
       "      <td>0.0</td>\n",
       "      <td>0.0</td>\n",
       "      <td>0.0</td>\n",
       "      <td>0.0</td>\n",
       "      <td>0.0</td>\n",
       "      <td>0.0</td>\n",
       "    </tr>\n",
       "    <tr>\n",
       "      <th>3</th>\n",
       "      <td>1000026</td>\n",
       "      <td>6</td>\n",
       "      <td>25</td>\n",
       "      <td>6817.014000</td>\n",
       "      <td>0.0</td>\n",
       "      <td>0.0</td>\n",
       "      <td>0.0</td>\n",
       "      <td>0.0</td>\n",
       "      <td>0.0</td>\n",
       "      <td>0.0</td>\n",
       "      <td>...</td>\n",
       "      <td>6.0</td>\n",
       "      <td>13.0</td>\n",
       "      <td>1.0</td>\n",
       "      <td>2.0</td>\n",
       "      <td>6.0</td>\n",
       "      <td>3.0</td>\n",
       "      <td>13.0</td>\n",
       "      <td>0.0</td>\n",
       "      <td>4.0</td>\n",
       "      <td>3.0</td>\n",
       "    </tr>\n",
       "    <tr>\n",
       "      <th>4</th>\n",
       "      <td>1000033</td>\n",
       "      <td>15</td>\n",
       "      <td>7</td>\n",
       "      <td>23637.768571</td>\n",
       "      <td>0.0</td>\n",
       "      <td>0.0</td>\n",
       "      <td>0.0</td>\n",
       "      <td>0.0</td>\n",
       "      <td>0.0</td>\n",
       "      <td>0.0</td>\n",
       "      <td>...</td>\n",
       "      <td>0.0</td>\n",
       "      <td>0.0</td>\n",
       "      <td>3.0</td>\n",
       "      <td>2.0</td>\n",
       "      <td>1.0</td>\n",
       "      <td>0.0</td>\n",
       "      <td>5.0</td>\n",
       "      <td>0.0</td>\n",
       "      <td>1.0</td>\n",
       "      <td>1.0</td>\n",
       "    </tr>\n",
       "    <tr>\n",
       "      <th>...</th>\n",
       "      <td>...</td>\n",
       "      <td>...</td>\n",
       "      <td>...</td>\n",
       "      <td>...</td>\n",
       "      <td>...</td>\n",
       "      <td>...</td>\n",
       "      <td>...</td>\n",
       "      <td>...</td>\n",
       "      <td>...</td>\n",
       "      <td>...</td>\n",
       "      <td>...</td>\n",
       "      <td>...</td>\n",
       "      <td>...</td>\n",
       "      <td>...</td>\n",
       "      <td>...</td>\n",
       "      <td>...</td>\n",
       "      <td>...</td>\n",
       "      <td>...</td>\n",
       "      <td>...</td>\n",
       "      <td>...</td>\n",
       "      <td>...</td>\n",
       "    </tr>\n",
       "    <tr>\n",
       "      <th>1546</th>\n",
       "      <td>ZEA00000101R</td>\n",
       "      <td>58</td>\n",
       "      <td>1</td>\n",
       "      <td>1422.260000</td>\n",
       "      <td>0.0</td>\n",
       "      <td>0.0</td>\n",
       "      <td>0.0</td>\n",
       "      <td>0.0</td>\n",
       "      <td>0.0</td>\n",
       "      <td>0.0</td>\n",
       "      <td>...</td>\n",
       "      <td>0.0</td>\n",
       "      <td>0.0</td>\n",
       "      <td>0.0</td>\n",
       "      <td>0.0</td>\n",
       "      <td>0.0</td>\n",
       "      <td>0.0</td>\n",
       "      <td>0.0</td>\n",
       "      <td>0.0</td>\n",
       "      <td>1.0</td>\n",
       "      <td>0.0</td>\n",
       "    </tr>\n",
       "    <tr>\n",
       "      <th>1547</th>\n",
       "      <td>ZEA00000132R</td>\n",
       "      <td>78</td>\n",
       "      <td>9</td>\n",
       "      <td>120439.152222</td>\n",
       "      <td>0.0</td>\n",
       "      <td>0.0</td>\n",
       "      <td>0.0</td>\n",
       "      <td>0.0</td>\n",
       "      <td>0.0</td>\n",
       "      <td>0.0</td>\n",
       "      <td>...</td>\n",
       "      <td>4.0</td>\n",
       "      <td>0.0</td>\n",
       "      <td>10.0</td>\n",
       "      <td>1.0</td>\n",
       "      <td>2.0</td>\n",
       "      <td>5.0</td>\n",
       "      <td>0.0</td>\n",
       "      <td>7.0</td>\n",
       "      <td>0.0</td>\n",
       "      <td>0.0</td>\n",
       "    </tr>\n",
       "    <tr>\n",
       "      <th>1548</th>\n",
       "      <td>ZEA00000149R</td>\n",
       "      <td>15</td>\n",
       "      <td>66</td>\n",
       "      <td>18608.477273</td>\n",
       "      <td>0.0</td>\n",
       "      <td>0.0</td>\n",
       "      <td>0.0</td>\n",
       "      <td>0.0</td>\n",
       "      <td>0.0</td>\n",
       "      <td>0.0</td>\n",
       "      <td>...</td>\n",
       "      <td>36.0</td>\n",
       "      <td>9.0</td>\n",
       "      <td>12.0</td>\n",
       "      <td>5.0</td>\n",
       "      <td>21.0</td>\n",
       "      <td>11.0</td>\n",
       "      <td>15.0</td>\n",
       "      <td>20.0</td>\n",
       "      <td>11.0</td>\n",
       "      <td>13.0</td>\n",
       "    </tr>\n",
       "    <tr>\n",
       "      <th>1549</th>\n",
       "      <td>ZGA00000005R</td>\n",
       "      <td>82</td>\n",
       "      <td>6</td>\n",
       "      <td>14356.415000</td>\n",
       "      <td>0.0</td>\n",
       "      <td>0.0</td>\n",
       "      <td>0.0</td>\n",
       "      <td>0.0</td>\n",
       "      <td>0.0</td>\n",
       "      <td>0.0</td>\n",
       "      <td>...</td>\n",
       "      <td>1.0</td>\n",
       "      <td>1.0</td>\n",
       "      <td>3.0</td>\n",
       "      <td>4.0</td>\n",
       "      <td>0.0</td>\n",
       "      <td>0.0</td>\n",
       "      <td>0.0</td>\n",
       "      <td>4.0</td>\n",
       "      <td>0.0</td>\n",
       "      <td>0.0</td>\n",
       "    </tr>\n",
       "    <tr>\n",
       "      <th>1550</th>\n",
       "      <td>ZJA00000009R</td>\n",
       "      <td>364</td>\n",
       "      <td>1</td>\n",
       "      <td>641.210000</td>\n",
       "      <td>0.0</td>\n",
       "      <td>0.0</td>\n",
       "      <td>0.0</td>\n",
       "      <td>0.0</td>\n",
       "      <td>0.0</td>\n",
       "      <td>0.0</td>\n",
       "      <td>...</td>\n",
       "      <td>0.0</td>\n",
       "      <td>0.0</td>\n",
       "      <td>0.0</td>\n",
       "      <td>0.0</td>\n",
       "      <td>0.0</td>\n",
       "      <td>0.0</td>\n",
       "      <td>0.0</td>\n",
       "      <td>0.0</td>\n",
       "      <td>0.0</td>\n",
       "      <td>0.0</td>\n",
       "    </tr>\n",
       "  </tbody>\n",
       "</table>\n",
       "<p>1551 rows × 1517 columns</p>\n",
       "</div>"
      ],
      "text/plain": [
       "          CUSTOMER  recency  frequence          money  PROVINCE_BJ  \\\n",
       "0          1000022       35          7   22832.154286          0.0   \n",
       "1          1000023       43          6   80435.956667          0.0   \n",
       "2          1000025      348          1     580.000000          0.0   \n",
       "3          1000026        6         25    6817.014000          0.0   \n",
       "4          1000033       15          7   23637.768571          0.0   \n",
       "...            ...      ...        ...            ...          ...   \n",
       "1546  ZEA00000101R       58          1    1422.260000          0.0   \n",
       "1547  ZEA00000132R       78          9  120439.152222          0.0   \n",
       "1548  ZEA00000149R       15         66   18608.477273          0.0   \n",
       "1549  ZGA00000005R       82          6   14356.415000          0.0   \n",
       "1550  ZJA00000009R      364          1     641.210000          0.0   \n",
       "\n",
       "      PROVINCE_CQ  PROVINCE_DE  PROVINCE_GD  PROVINCE_GS  PROVINCE_GX  ...  \\\n",
       "0             0.0          0.0          0.0          0.0          0.0  ...   \n",
       "1             0.0          0.0         27.0          0.0          0.0  ...   \n",
       "2             0.0          0.0          1.0          0.0          0.0  ...   \n",
       "3             0.0          0.0          0.0          0.0          0.0  ...   \n",
       "4             0.0          0.0          0.0          0.0          0.0  ...   \n",
       "...           ...          ...          ...          ...          ...  ...   \n",
       "1546          0.0          0.0          0.0          0.0          0.0  ...   \n",
       "1547          0.0          0.0          0.0          0.0          0.0  ...   \n",
       "1548          0.0          0.0          0.0          0.0          0.0  ...   \n",
       "1549          0.0          0.0          0.0          0.0          0.0  ...   \n",
       "1550          0.0          0.0          0.0          0.0          0.0  ...   \n",
       "\n",
       "      PERIOD_3  PERIOD_4  PERIOD_5  PERIOD_6  PERIOD_7  PERIOD_8  PERIOD_9  \\\n",
       "0          0.0       2.0       0.0       0.0       4.0       2.0       0.0   \n",
       "1          0.0       3.0       0.0       0.0       7.0       0.0       5.0   \n",
       "2          0.0       0.0       0.0       0.0       0.0       0.0       0.0   \n",
       "3          6.0      13.0       1.0       2.0       6.0       3.0      13.0   \n",
       "4          0.0       0.0       3.0       2.0       1.0       0.0       5.0   \n",
       "...        ...       ...       ...       ...       ...       ...       ...   \n",
       "1546       0.0       0.0       0.0       0.0       0.0       0.0       0.0   \n",
       "1547       4.0       0.0      10.0       1.0       2.0       5.0       0.0   \n",
       "1548      36.0       9.0      12.0       5.0      21.0      11.0      15.0   \n",
       "1549       1.0       1.0       3.0       4.0       0.0       0.0       0.0   \n",
       "1550       0.0       0.0       0.0       0.0       0.0       0.0       0.0   \n",
       "\n",
       "      PERIOD_10  PERIOD_11  PERIOD_12  \n",
       "0           2.0       11.0        0.0  \n",
       "1           0.0       12.0        0.0  \n",
       "2           0.0        0.0        0.0  \n",
       "3           0.0        4.0        3.0  \n",
       "4           0.0        1.0        1.0  \n",
       "...         ...        ...        ...  \n",
       "1546        0.0        1.0        0.0  \n",
       "1547        7.0        0.0        0.0  \n",
       "1548       20.0       11.0       13.0  \n",
       "1549        4.0        0.0        0.0  \n",
       "1550        0.0        0.0        0.0  \n",
       "\n",
       "[1551 rows x 1517 columns]"
      ]
     },
     "execution_count": 32,
     "metadata": {},
     "output_type": "execute_result"
    }
   ],
   "source": [
    "df_one_hot = df_one_hot.groupby(\"CUSTOMER\").sum().reset_index()\n",
    "# df_one_hot= df_one_hot/data_f['frequence']\n",
    "# data_f['frequence']\n",
    "df_all_new_features = pd.merge(data_rfm,df_one_hot, on = 'CUSTOMER',how = 'inner')\n",
    "df_all_new_features"
   ]
  },
  {
   "cell_type": "markdown",
   "metadata": {},
   "source": [
    "## 对连续性数值进行标准化比如Zscore"
   ]
  },
  {
   "cell_type": "code",
   "execution_count": 34,
   "metadata": {},
   "outputs": [
    {
     "data": {
      "text/plain": [
       "array([[0.09366391, 0.04379562, 0.01755794, ..., 0.01587302, 0.18333333,\n",
       "        0.        ],\n",
       "       [0.11570248, 0.03649635, 0.0599676 , ..., 0.        , 0.2       ,\n",
       "        0.        ],\n",
       "       [0.95592287, 0.        , 0.00117523, ..., 0.        , 0.        ,\n",
       "        0.        ],\n",
       "       ...,\n",
       "       [0.03856749, 0.47445255, 0.01444834, ..., 0.15873016, 0.18333333,\n",
       "        0.06878307],\n",
       "       [0.2231405 , 0.03649635, 0.01131784, ..., 0.03174603, 0.        ,\n",
       "        0.        ],\n",
       "       [1.        , 0.        , 0.00122029, ..., 0.        , 0.        ,\n",
       "        0.        ]])"
      ]
     },
     "execution_count": 34,
     "metadata": {},
     "output_type": "execute_result"
    }
   ],
   "source": [
    "from sklearn import preprocessing\n",
    "from sklearn.cluster import KMeans\n",
    "from sklearn import metrics\n",
    "data_rfm = df_all_new_features.copy()\n",
    "min_max_scaler = preprocessing.MinMaxScaler()\n",
    "data_rfm_s = min_max_scaler.fit_transform(df_all_new_features.iloc[:,1:])\n",
    "data_rfm_s"
   ]
  },
  {
   "cell_type": "markdown",
   "metadata": {},
   "source": [
    "# 建立模型"
   ]
  },
  {
   "cell_type": "markdown",
   "metadata": {},
   "source": [
    "## 选择合适的cluster个数"
   ]
  },
  {
   "cell_type": "code",
   "execution_count": 35,
   "metadata": {},
   "outputs": [
    {
     "name": "stdout",
     "output_type": "stream",
     "text": [
      "[58.86517113262695, 57.06623112439981, 49.507736341478214, 36.43842847169827, 37.73765185737112, 35.15386282872477, 36.371361033457895] [0.024196236756900334, 0.026877064637652128, 0.03019162848698015, 0.025451850420255048, 0.04838075945914171, 0.030851096471476276, 0.05054759782479465] [2811.685970816856, 2718.130781666035, 2662.8800178139727, 2667.088182056208, 2600.8930828880098, 2567.7587057934866, 2505.1746296376054]\n"
     ]
    },
    {
     "data": {
      "image/png": "[encoded data removed]",
      "text/plain": [
       "<Figure size 1080x432 with 3 Axes>"
      ]
     },
     "metadata": {},
     "output_type": "display_data"
    }
   ],
   "source": [
    "inertia = []\n",
    "ch_score = []\n",
    "ss_score = []\n",
    "for k in range(2,9):\n",
    "    model = KMeans(n_clusters = k, init = 'k-means++',max_iter = 500)\n",
    "    model.fit(data_rfm_s)\n",
    "    pre = model.predict(data_rfm_s)\n",
    "    ch = metrics.calinski_harabaz_score(data_rfm_s,pre) \n",
    "    ss = metrics.silhouette_score(data_rfm_s,pre)\n",
    "    inertia.append(model.inertia_)\n",
    "    ch_score.append(ch)\n",
    "    ss_score.append(ss)\n",
    "print(ch_score,ss_score,inertia)\n",
    "\n",
    "score = pd.Series([ch_score,ss_score,inertia],index = ['ch_score','ss_score','inertia'])\n",
    "aa = score.index.tolist()\n",
    "plt.figure(figsize = (15,6))\n",
    "j = 1\n",
    "for i in aa:\n",
    "    plt.subplot(1,3,j)\n",
    "    plt.plot(list(range(2,9)),score[i])\n",
    "    plt.xlabel('k numbers',fontsize = 13)\n",
    "    plt.ylabel(f'{i}value',fontsize = 13)\n",
    "    plt.title(f'{i}value chaning trend',fontsize = 15)\n",
    "    j+=1\n",
    "plt.subplots_adjust(wspace = 0.3)"
   ]
  },
  {
   "cell_type": "code",
   "execution_count": 42,
   "metadata": {},
   "outputs": [
    {
     "data": {
      "text/html": [
       "<div>\n",
       "<style scoped>\n",
       "    .dataframe tbody tr th:only-of-type {\n",
       "        vertical-align: middle;\n",
       "    }\n",
       "\n",
       "    .dataframe tbody tr th {\n",
       "        vertical-align: top;\n",
       "    }\n",
       "\n",
       "    .dataframe thead th {\n",
       "        text-align: right;\n",
       "    }\n",
       "</style>\n",
       "<table border=\"1\" class=\"dataframe\">\n",
       "  <thead>\n",
       "    <tr style=\"text-align: right;\">\n",
       "      <th></th>\n",
       "      <th>CUSTOMER</th>\n",
       "      <th>recency</th>\n",
       "      <th>frequence</th>\n",
       "      <th>money</th>\n",
       "      <th>PROVINCE_BJ</th>\n",
       "      <th>PROVINCE_CQ</th>\n",
       "      <th>PROVINCE_DE</th>\n",
       "      <th>PROVINCE_GD</th>\n",
       "      <th>PROVINCE_GS</th>\n",
       "      <th>PROVINCE_GX</th>\n",
       "      <th>...</th>\n",
       "      <th>PERIOD_4</th>\n",
       "      <th>PERIOD_5</th>\n",
       "      <th>PERIOD_6</th>\n",
       "      <th>PERIOD_7</th>\n",
       "      <th>PERIOD_8</th>\n",
       "      <th>PERIOD_9</th>\n",
       "      <th>PERIOD_10</th>\n",
       "      <th>PERIOD_11</th>\n",
       "      <th>PERIOD_12</th>\n",
       "      <th>cluster</th>\n",
       "    </tr>\n",
       "  </thead>\n",
       "  <tbody>\n",
       "    <tr>\n",
       "      <th>0</th>\n",
       "      <td>1000022</td>\n",
       "      <td>35</td>\n",
       "      <td>7</td>\n",
       "      <td>22832.154286</td>\n",
       "      <td>0.0</td>\n",
       "      <td>0.0</td>\n",
       "      <td>0.0</td>\n",
       "      <td>0.0</td>\n",
       "      <td>0.0</td>\n",
       "      <td>0.0</td>\n",
       "      <td>...</td>\n",
       "      <td>2.0</td>\n",
       "      <td>0.0</td>\n",
       "      <td>0.0</td>\n",
       "      <td>4.0</td>\n",
       "      <td>2.0</td>\n",
       "      <td>0.0</td>\n",
       "      <td>2.0</td>\n",
       "      <td>11.0</td>\n",
       "      <td>0.0</td>\n",
       "      <td>1</td>\n",
       "    </tr>\n",
       "    <tr>\n",
       "      <th>1</th>\n",
       "      <td>1000023</td>\n",
       "      <td>43</td>\n",
       "      <td>6</td>\n",
       "      <td>80435.956667</td>\n",
       "      <td>0.0</td>\n",
       "      <td>0.0</td>\n",
       "      <td>0.0</td>\n",
       "      <td>27.0</td>\n",
       "      <td>0.0</td>\n",
       "      <td>0.0</td>\n",
       "      <td>...</td>\n",
       "      <td>3.0</td>\n",
       "      <td>0.0</td>\n",
       "      <td>0.0</td>\n",
       "      <td>7.0</td>\n",
       "      <td>0.0</td>\n",
       "      <td>5.0</td>\n",
       "      <td>0.0</td>\n",
       "      <td>12.0</td>\n",
       "      <td>0.0</td>\n",
       "      <td>1</td>\n",
       "    </tr>\n",
       "    <tr>\n",
       "      <th>2</th>\n",
       "      <td>1000025</td>\n",
       "      <td>348</td>\n",
       "      <td>1</td>\n",
       "      <td>580.000000</td>\n",
       "      <td>0.0</td>\n",
       "      <td>0.0</td>\n",
       "      <td>0.0</td>\n",
       "      <td>1.0</td>\n",
       "      <td>0.0</td>\n",
       "      <td>0.0</td>\n",
       "      <td>...</td>\n",
       "      <td>0.0</td>\n",
       "      <td>0.0</td>\n",
       "      <td>0.0</td>\n",
       "      <td>0.0</td>\n",
       "      <td>0.0</td>\n",
       "      <td>0.0</td>\n",
       "      <td>0.0</td>\n",
       "      <td>0.0</td>\n",
       "      <td>0.0</td>\n",
       "      <td>2</td>\n",
       "    </tr>\n",
       "    <tr>\n",
       "      <th>3</th>\n",
       "      <td>1000026</td>\n",
       "      <td>6</td>\n",
       "      <td>25</td>\n",
       "      <td>6817.014000</td>\n",
       "      <td>0.0</td>\n",
       "      <td>0.0</td>\n",
       "      <td>0.0</td>\n",
       "      <td>0.0</td>\n",
       "      <td>0.0</td>\n",
       "      <td>0.0</td>\n",
       "      <td>...</td>\n",
       "      <td>13.0</td>\n",
       "      <td>1.0</td>\n",
       "      <td>2.0</td>\n",
       "      <td>6.0</td>\n",
       "      <td>3.0</td>\n",
       "      <td>13.0</td>\n",
       "      <td>0.0</td>\n",
       "      <td>4.0</td>\n",
       "      <td>3.0</td>\n",
       "      <td>1</td>\n",
       "    </tr>\n",
       "    <tr>\n",
       "      <th>4</th>\n",
       "      <td>1000033</td>\n",
       "      <td>15</td>\n",
       "      <td>7</td>\n",
       "      <td>23637.768571</td>\n",
       "      <td>0.0</td>\n",
       "      <td>0.0</td>\n",
       "      <td>0.0</td>\n",
       "      <td>0.0</td>\n",
       "      <td>0.0</td>\n",
       "      <td>0.0</td>\n",
       "      <td>...</td>\n",
       "      <td>0.0</td>\n",
       "      <td>3.0</td>\n",
       "      <td>2.0</td>\n",
       "      <td>1.0</td>\n",
       "      <td>0.0</td>\n",
       "      <td>5.0</td>\n",
       "      <td>0.0</td>\n",
       "      <td>1.0</td>\n",
       "      <td>1.0</td>\n",
       "      <td>1</td>\n",
       "    </tr>\n",
       "    <tr>\n",
       "      <th>...</th>\n",
       "      <td>...</td>\n",
       "      <td>...</td>\n",
       "      <td>...</td>\n",
       "      <td>...</td>\n",
       "      <td>...</td>\n",
       "      <td>...</td>\n",
       "      <td>...</td>\n",
       "      <td>...</td>\n",
       "      <td>...</td>\n",
       "      <td>...</td>\n",
       "      <td>...</td>\n",
       "      <td>...</td>\n",
       "      <td>...</td>\n",
       "      <td>...</td>\n",
       "      <td>...</td>\n",
       "      <td>...</td>\n",
       "      <td>...</td>\n",
       "      <td>...</td>\n",
       "      <td>...</td>\n",
       "      <td>...</td>\n",
       "      <td>...</td>\n",
       "    </tr>\n",
       "    <tr>\n",
       "      <th>1546</th>\n",
       "      <td>ZEA00000101R</td>\n",
       "      <td>58</td>\n",
       "      <td>1</td>\n",
       "      <td>1422.260000</td>\n",
       "      <td>0.0</td>\n",
       "      <td>0.0</td>\n",
       "      <td>0.0</td>\n",
       "      <td>0.0</td>\n",
       "      <td>0.0</td>\n",
       "      <td>0.0</td>\n",
       "      <td>...</td>\n",
       "      <td>0.0</td>\n",
       "      <td>0.0</td>\n",
       "      <td>0.0</td>\n",
       "      <td>0.0</td>\n",
       "      <td>0.0</td>\n",
       "      <td>0.0</td>\n",
       "      <td>0.0</td>\n",
       "      <td>1.0</td>\n",
       "      <td>0.0</td>\n",
       "      <td>1</td>\n",
       "    </tr>\n",
       "    <tr>\n",
       "      <th>1547</th>\n",
       "      <td>ZEA00000132R</td>\n",
       "      <td>78</td>\n",
       "      <td>9</td>\n",
       "      <td>120439.152222</td>\n",
       "      <td>0.0</td>\n",
       "      <td>0.0</td>\n",
       "      <td>0.0</td>\n",
       "      <td>0.0</td>\n",
       "      <td>0.0</td>\n",
       "      <td>0.0</td>\n",
       "      <td>...</td>\n",
       "      <td>0.0</td>\n",
       "      <td>10.0</td>\n",
       "      <td>1.0</td>\n",
       "      <td>2.0</td>\n",
       "      <td>5.0</td>\n",
       "      <td>0.0</td>\n",
       "      <td>7.0</td>\n",
       "      <td>0.0</td>\n",
       "      <td>0.0</td>\n",
       "      <td>1</td>\n",
       "    </tr>\n",
       "    <tr>\n",
       "      <th>1548</th>\n",
       "      <td>ZEA00000149R</td>\n",
       "      <td>15</td>\n",
       "      <td>66</td>\n",
       "      <td>18608.477273</td>\n",
       "      <td>0.0</td>\n",
       "      <td>0.0</td>\n",
       "      <td>0.0</td>\n",
       "      <td>0.0</td>\n",
       "      <td>0.0</td>\n",
       "      <td>0.0</td>\n",
       "      <td>...</td>\n",
       "      <td>9.0</td>\n",
       "      <td>12.0</td>\n",
       "      <td>5.0</td>\n",
       "      <td>21.0</td>\n",
       "      <td>11.0</td>\n",
       "      <td>15.0</td>\n",
       "      <td>20.0</td>\n",
       "      <td>11.0</td>\n",
       "      <td>13.0</td>\n",
       "      <td>1</td>\n",
       "    </tr>\n",
       "    <tr>\n",
       "      <th>1549</th>\n",
       "      <td>ZGA00000005R</td>\n",
       "      <td>82</td>\n",
       "      <td>6</td>\n",
       "      <td>14356.415000</td>\n",
       "      <td>0.0</td>\n",
       "      <td>0.0</td>\n",
       "      <td>0.0</td>\n",
       "      <td>0.0</td>\n",
       "      <td>0.0</td>\n",
       "      <td>0.0</td>\n",
       "      <td>...</td>\n",
       "      <td>1.0</td>\n",
       "      <td>3.0</td>\n",
       "      <td>4.0</td>\n",
       "      <td>0.0</td>\n",
       "      <td>0.0</td>\n",
       "      <td>0.0</td>\n",
       "      <td>4.0</td>\n",
       "      <td>0.0</td>\n",
       "      <td>0.0</td>\n",
       "      <td>1</td>\n",
       "    </tr>\n",
       "    <tr>\n",
       "      <th>1550</th>\n",
       "      <td>ZJA00000009R</td>\n",
       "      <td>364</td>\n",
       "      <td>1</td>\n",
       "      <td>641.210000</td>\n",
       "      <td>0.0</td>\n",
       "      <td>0.0</td>\n",
       "      <td>0.0</td>\n",
       "      <td>0.0</td>\n",
       "      <td>0.0</td>\n",
       "      <td>0.0</td>\n",
       "      <td>...</td>\n",
       "      <td>0.0</td>\n",
       "      <td>0.0</td>\n",
       "      <td>0.0</td>\n",
       "      <td>0.0</td>\n",
       "      <td>0.0</td>\n",
       "      <td>0.0</td>\n",
       "      <td>0.0</td>\n",
       "      <td>0.0</td>\n",
       "      <td>0.0</td>\n",
       "      <td>2</td>\n",
       "    </tr>\n",
       "  </tbody>\n",
       "</table>\n",
       "<p>1551 rows × 1518 columns</p>\n",
       "</div>"
      ],
      "text/plain": [
       "          CUSTOMER  recency  frequence          money  PROVINCE_BJ  \\\n",
       "0          1000022       35          7   22832.154286          0.0   \n",
       "1          1000023       43          6   80435.956667          0.0   \n",
       "2          1000025      348          1     580.000000          0.0   \n",
       "3          1000026        6         25    6817.014000          0.0   \n",
       "4          1000033       15          7   23637.768571          0.0   \n",
       "...            ...      ...        ...            ...          ...   \n",
       "1546  ZEA00000101R       58          1    1422.260000          0.0   \n",
       "1547  ZEA00000132R       78          9  120439.152222          0.0   \n",
       "1548  ZEA00000149R       15         66   18608.477273          0.0   \n",
       "1549  ZGA00000005R       82          6   14356.415000          0.0   \n",
       "1550  ZJA00000009R      364          1     641.210000          0.0   \n",
       "\n",
       "      PROVINCE_CQ  PROVINCE_DE  PROVINCE_GD  PROVINCE_GS  PROVINCE_GX  ...  \\\n",
       "0             0.0          0.0          0.0          0.0          0.0  ...   \n",
       "1             0.0          0.0         27.0          0.0          0.0  ...   \n",
       "2             0.0          0.0          1.0          0.0          0.0  ...   \n",
       "3             0.0          0.0          0.0          0.0          0.0  ...   \n",
       "4             0.0          0.0          0.0          0.0          0.0  ...   \n",
       "...           ...          ...          ...          ...          ...  ...   \n",
       "1546          0.0          0.0          0.0          0.0          0.0  ...   \n",
       "1547          0.0          0.0          0.0          0.0          0.0  ...   \n",
       "1548          0.0          0.0          0.0          0.0          0.0  ...   \n",
       "1549          0.0          0.0          0.0          0.0          0.0  ...   \n",
       "1550          0.0          0.0          0.0          0.0          0.0  ...   \n",
       "\n",
       "      PERIOD_4  PERIOD_5  PERIOD_6  PERIOD_7  PERIOD_8  PERIOD_9  PERIOD_10  \\\n",
       "0          2.0       0.0       0.0       4.0       2.0       0.0        2.0   \n",
       "1          3.0       0.0       0.0       7.0       0.0       5.0        0.0   \n",
       "2          0.0       0.0       0.0       0.0       0.0       0.0        0.0   \n",
       "3         13.0       1.0       2.0       6.0       3.0      13.0        0.0   \n",
       "4          0.0       3.0       2.0       1.0       0.0       5.0        0.0   \n",
       "...        ...       ...       ...       ...       ...       ...        ...   \n",
       "1546       0.0       0.0       0.0       0.0       0.0       0.0        0.0   \n",
       "1547       0.0      10.0       1.0       2.0       5.0       0.0        7.0   \n",
       "1548       9.0      12.0       5.0      21.0      11.0      15.0       20.0   \n",
       "1549       1.0       3.0       4.0       0.0       0.0       0.0        4.0   \n",
       "1550       0.0       0.0       0.0       0.0       0.0       0.0        0.0   \n",
       "\n",
       "      PERIOD_11  PERIOD_12  cluster  \n",
       "0          11.0        0.0        1  \n",
       "1          12.0        0.0        1  \n",
       "2           0.0        0.0        2  \n",
       "3           4.0        3.0        1  \n",
       "4           1.0        1.0        1  \n",
       "...         ...        ...      ...  \n",
       "1546        1.0        0.0        1  \n",
       "1547        0.0        0.0        1  \n",
       "1548       11.0       13.0        1  \n",
       "1549        0.0        0.0        1  \n",
       "1550        0.0        0.0        2  \n",
       "\n",
       "[1551 rows x 1518 columns]"
      ]
     },
     "execution_count": 42,
     "metadata": {},
     "output_type": "execute_result"
    }
   ],
   "source": [
    "model = KMeans(n_clusters = 3, init = 'k-means++',max_iter = 500)\n",
    "model.fit(data_rfm_s)\n",
    "ppre = model.predict(data_rfm_s)\n",
    "ppre\n",
    "ppre = pd.DataFrame(ppre)\n",
    "data = pd.concat([df_all_new_features,ppre],axis = 1)\n",
    "data.rename({0:u'cluster'},axis = 1,inplace = True)\n",
    "data"
   ]
  },
  {
   "cell_type": "code",
   "execution_count": 43,
   "metadata": {},
   "outputs": [],
   "source": [
    "customer = pd.merge(data[['CUSTOMER','cluster','recency','frequence','money',]],df_new, on = 'CUSTOMER',how = 'inner')"
   ]
  },
  {
   "cell_type": "markdown",
   "metadata": {},
   "source": [
    "# 基于聚类分类,使用协同过滤算法进行产品推荐给不同客户"
   ]
  },
  {
   "cell_type": "code",
   "execution_count": 45,
   "metadata": {
    "scrolled": true
   },
   "outputs": [],
   "source": [
    "cluster_0 = customer[customer[\"cluster\"]==0][['CUSTOMER','ITEM','QTY']]\n",
    "cluster_0.groupby(['CUSTOMER','ITEM']).sum().to_csv('./data/output/cluster_0.csv')"
   ]
  },
  {
   "cell_type": "markdown",
   "metadata": {},
   "source": [
    "## 计算欧式距离和最相似用户"
   ]
  },
  {
   "cell_type": "code",
   "execution_count": 59,
   "metadata": {},
   "outputs": [],
   "source": [
    "file = open(\"./data/output/cluster_0.csv\",'r', encoding='UTF-8')#记得读取文件时加‘r’， encoding='UTF-8'\n",
    "##读取data.csv中每行中除了名字的数据\n",
    "data = {}##存放每位用户\n",
    "for line in file.readlines()[1:]:\n",
    "    #注意这里不是readline()\n",
    "    line = line.strip().split(',')\n",
    "    #如果字典中没有某位用户，则使用用户ID来创建这位用户\n",
    "    if not line[0] in data.keys():\n",
    "        data[line[0]] = {line[1]:line[2]}\n",
    "    #否则直接添加以该用户ID为key字典中\n",
    "    else:\n",
    "        data[line[0]][line[1]] = line[2] \n",
    " \n",
    "\"\"\"计算任何两位用户之间的相似度，由于每位用户购买数量，所以兽先要找到两位用户共同购买过的产品\n",
    "       然后计算两者之间的欧式距离，最后算出两者之间的相似度\n",
    "\"\"\"\n",
    "from math import *\n",
    "def Euclidean(user1,user2):\n",
    "    #取出两位用户评论过的电影和评分\n",
    "    user1_data=data[user1]\n",
    "    user2_data=data[user2]\n",
    "    distance = 0\n",
    "    #找到两位用户都，并计算欧式距离\n",
    "    for key in user1_data.keys():\n",
    "        if key in user2_data.keys():\n",
    "            #注意，distance越大表示两者越相似\n",
    "            distance += pow(float(user1_data[key])-float(user2_data[key]),2)\n",
    " \n",
    "    return 1/(1+sqrt(distance))#这里返回值越小，相似度越大\n",
    " \n",
    "#计算某个用户与其他用户的相似度\n",
    "def top10_simliar(userID):\n",
    "    res = []\n",
    "    for userid in data.keys():\n",
    "        #排除与自己计算相似度\n",
    "        if not userid == userID:\n",
    "            simliar = Euclidean(userID,userid)\n",
    "            res.append((userid,simliar))\n",
    "    res.sort(key=lambda val:val[1])\n",
    "    return res[:10]"
   ]
  },
  {
   "cell_type": "code",
   "execution_count": 54,
   "metadata": {},
   "outputs": [
    {
     "name": "stdout",
     "output_type": "stream",
     "text": [
      "[('HK000000580H', 0.0008714177184009742), ('SQA00000008R', 0.0013753777148357068), ('SLA00000082R', 0.0015822784810126582), ('SGA00000026R', 0.0018382072910922182), ('LCA00000160R', 0.0024230525583639213), ('UCA00000124R', 0.002766944503450758), ('TJA00000025R', 0.0029975851685074394), ('HK000000600H', 0.0032545240411646858), ('SQA00000011R', 0.003576950289870776), ('LCA00000111R', 0.0036101083032490976)]\n"
     ]
    }
   ],
   "source": [
    "RES = top10_simliar('1000022')\n",
    "print(RES)"
   ]
  },
  {
   "cell_type": "markdown",
   "metadata": {},
   "source": [
    "## 根据用户推荐产品给其他人"
   ]
  },
  {
   "cell_type": "code",
   "execution_count": 60,
   "metadata": {},
   "outputs": [
    {
     "name": "stdout",
     "output_type": "stream",
     "text": [
      "HK000000580H\n",
      "[('1016296', '22'), ('1044339', '12'), ('1044627', '135'), ('1044630', '137'), ('1060058', '272'), ('5312082', '45'), ('5312084', '27'), ('6023135', '10'), ('6025640', '10'), ('6035417', '27')]\n"
     ]
    }
   ],
   "source": [
    "def recommend(user):\n",
    "    #相似度最高的用户\n",
    "    top_sim_user = top10_simliar(user)[0][0]\n",
    "    print(top_sim_user)\n",
    "    #相似度最高的用户的产品记录\n",
    "    items = data[top_sim_user]\n",
    "    recommendations = []\n",
    "    #筛选出该用户未购买的产品并添加到列表中\n",
    "    for item in items.keys():\n",
    "        if item not in data[user].keys():\n",
    "            recommendations.append((item,items[item]))\n",
    "    recommendations.sort(key=lambda val:(val[0],val[1]),reverse=False)#按照购买数量排序\n",
    "    #返回评分销量最高的10个产品\n",
    "    return recommendations[:10]\n",
    " \n",
    "Recommendations = recommend('1000022')\n",
    "print(Recommendations)"
   ]
  },
  {
   "cell_type": "code",
   "execution_count": null,
   "metadata": {},
   "outputs": [],
   "source": []
  }
 ],
 "metadata": {
  "kernelspec": {
   "display_name": "Python 3",
   "language": "python",
   "name": "python3"
  },
  "language_info": {
   "codemirror_mode": {
    "name": "ipython",
    "version": 3
   },
   "file_extension": ".py",
   "mimetype": "text/x-python",
   "name": "python",
   "nbconvert_exporter": "python",
   "pygments_lexer": "ipython3",
   "version": "3.7.6"
  },
  "toc": {
   "base_numbering": 1,
   "nav_menu": {},
   "number_sections": true,
   "sideBar": true,
   "skip_h1_title": false,
   "title_cell": "Table of Contents",
   "title_sidebar": "Contents",
   "toc_cell": false,
   "toc_position": {
    "height": "calc(100% - 180px)",
    "left": "10px",
    "top": "150px",
    "width": "311px"
   },
   "toc_section_display": true,
   "toc_window_display": true
  }
 },
 "nbformat": 4,
 "nbformat_minor": 4
}
